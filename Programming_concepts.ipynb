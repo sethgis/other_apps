{
  "nbformat": 4,
  "nbformat_minor": 0,
  "metadata": {
    "colab": {
      "provenance": [],
      "authorship_tag": "ABX9TyN9Gwr6P6PYF7meXCcpOaZF",
      "include_colab_link": true
    },
    "kernelspec": {
      "name": "python3",
      "display_name": "Python 3"
    },
    "language_info": {
      "name": "python"
    }
  },
  "cells": [
    {
      "cell_type": "markdown",
      "metadata": {
        "id": "view-in-github",
        "colab_type": "text"
      },
      "source": [
        "<a href=\"https://colab.research.google.com/github/sethgis/other_apps/blob/main/Programming_concepts.ipynb\" target=\"_parent\"><img src=\"https://colab.research.google.com/assets/colab-badge.svg\" alt=\"Open In Colab\"/></a>"
      ]
    },
    {
      "cell_type": "code",
      "execution_count": 2,
      "metadata": {
        "colab": {
          "base_uri": "https://localhost:8080/"
        },
        "id": "TQn4glKnIwrb",
        "outputId": "74ef650d-7aed-41be-96c0-362db1b9c5e4"
      },
      "outputs": [
        {
          "output_type": "stream",
          "name": "stdout",
          "text": [
            "Seth Nyawacha\n",
            "I was born in Nakuru\n"
          ]
        }
      ],
      "source": [
        "# Write a Python program that displays your name, and hometown on two different lines\n",
        "print(\"Seth Nyawacha\")\n",
        "\n",
        "print(\"I was born in Nakuru\")\n",
        "\n"
      ]
    },
    {
      "cell_type": "code",
      "source": [
        "# from pickle import BINPUT\n",
        "# Write a python program that computes the profit made after selling a motor vehicle\n",
        "# purchased at 450,000 and sold at 580,000. Have the output as: The Profit Made is 130,000. Have appropriate comments in your code [6 Marks]\n",
        "\n",
        "# Input the selling price\n",
        "sp_input = input(\"Please input the selling price: \")\n",
        "\n",
        "try:\n",
        "    sp = int(sp_input)\n",
        "except ValueError:\n",
        "    print(\"Invalid input. Please enter a valid integer.\")\n",
        "\n",
        "# Input the buying price\n",
        "bp_input = input(\"Please input the buying price: \")\n",
        "\n",
        "try:\n",
        "    bp = int(bp_input)\n",
        "except ValueError:\n",
        "    print(\"Invalid input. Please enter a valid integer.\")\n",
        "\n",
        "# Calculate the profit\n",
        "profit = sp - bp\n",
        "\n",
        "print(\"The profit is\", profit)\n",
        "\n",
        "\n",
        "\n"
      ],
      "metadata": {
        "colab": {
          "base_uri": "https://localhost:8080/"
        },
        "id": "5k_00JmjJbcJ",
        "outputId": "33e3cd1e-c807-4c9a-868d-c7ac93b7b54f"
      },
      "execution_count": 10,
      "outputs": [
        {
          "output_type": "stream",
          "name": "stdout",
          "text": [
            "Please input the selling price: 8000\n",
            "Please input the buying price: 9000\n",
            "The profit is -1000\n"
          ]
        }
      ]
    },
    {
      "cell_type": "code",
      "source": [
        "# Write a python program that computes the simple\n",
        "# interest on a loan by allowing a user to input the principal,\n",
        "# interest rate and duration in years\n",
        "\n",
        "# Input the variables\n",
        "principal_input = input(\"Please input the principal: \")\n",
        "\n",
        "try:\n",
        "    sp = float(principal_input)\n",
        "except ValueError:\n",
        "    print(\"Invalid input. Please enter a valid number: \")\n",
        "\n",
        "# Input the buying price\n",
        "interest_input = input(\"Please input the interest rate, it should be less than 100%: \")\n",
        "\n",
        "try:\n",
        "    bp = float(interest_input)\n",
        "except ValueError:\n",
        "    print(\"Invalid input. Please enter a valid number: \")\n",
        "\n",
        "# Input the duration of payment\n",
        "years = input(\"Please input the repayment period in years: \")\n",
        "\n",
        "try:\n",
        "    year = float(years)\n",
        "except ValueError:\n",
        "    print(\"Invalid input. Please enter a valid number: \")\n",
        "\n",
        "\n",
        "# Calculate the simple interest\n",
        "# simple_interest = (principal * rate_of_interest * time_period) / 100\n",
        "\n",
        "si = (sp * bp * year)/100\n",
        "\n",
        "print(\"The simple interest is\", si)\n",
        "\n"
      ],
      "metadata": {
        "colab": {
          "base_uri": "https://localhost:8080/"
        },
        "id": "kxatUnfpLvUg",
        "outputId": "b7955e30-6d9e-4a25-939a-77705060ff2d"
      },
      "execution_count": 4,
      "outputs": [
        {
          "output_type": "stream",
          "name": "stdout",
          "text": [
            "Please input the principal: 80000\n",
            "Please input the interest rate, it should be less than 100%: 8\n",
            "Please input the repayment period in years: 7\n",
            "The simple interest is 44800.0\n"
          ]
        }
      ]
    },
    {
      "cell_type": "code",
      "source": [
        "# Write a program that initializes the full name of the\n",
        "# organization you work for and Number of years you have worked with them\n",
        "\n",
        "\n",
        "#input the name of organisation you work with\n",
        "organ = str(input(\"Input the name of your organisation: \"))\n",
        "#input the number of years you have worked with the organisation\n",
        "years =  str(input(\"How many years have you worked in the organisation: \"))\n",
        "\n",
        "print(\"I have worked in\",organ, \"for\", years,\" years\")"
      ],
      "metadata": {
        "colab": {
          "base_uri": "https://localhost:8080/"
        },
        "id": "H8l07Ap88VrV",
        "outputId": "0f32a1e3-9fbc-4eb2-f558-a7f9e4c80e36"
      },
      "execution_count": 7,
      "outputs": [
        {
          "output_type": "stream",
          "name": "stdout",
          "text": [
            "Input the name of your organisation: Locate\n",
            "How many years have you worked in the organisation: 7\n",
            "I have worked in Locate for 7  years\n"
          ]
        }
      ]
    },
    {
      "cell_type": "code",
      "source": [
        "# Ivan is a programmer in an American company, and he works at home approximately\n",
        "# N days per month by earning approximately M dollars per day.\n",
        "# At the end of the year, Ivan gets a bonus, which equals 2.5 of his monthly salaries.\n",
        "# In addition, 25% of his annual salary goes for taxes.\n",
        "# Write a program that calculates the amount of Ivan's net annual earnings in dollars\n",
        "\n",
        "days = float(30) #works 30 days in a month\n",
        "earning  =  float(input(\"Enter amount earned per day in dollars: \")) #earns 40 USD per day\n",
        "monthly = float(days * earning)\n",
        "yearly =  float(monthly * 12)\n",
        "net = float(0.75 * yearly)\n",
        "\n",
        "print(\"Ivans net annual salary is\", net,\"USD\", \"after 25% deductions\")\n",
        "\n"
      ],
      "metadata": {
        "colab": {
          "base_uri": "https://localhost:8080/"
        },
        "id": "vUhaNDkD96_E",
        "outputId": "6a72e58e-05b9-461f-9ada-e75011ad84e3"
      },
      "execution_count": 10,
      "outputs": [
        {
          "output_type": "stream",
          "name": "stdout",
          "text": [
            "Enter amount earned per day in dollars: 70\n",
            "Ivans net annual salary is 18900.0 USD after 25% deductions\n"
          ]
        }
      ]
    },
    {
      "cell_type": "code",
      "source": [],
      "metadata": {
        "id": "FOjQ2ZH7ACWR"
      },
      "execution_count": null,
      "outputs": []
    },
    {
      "cell_type": "code",
      "source": [],
      "metadata": {
        "id": "yQDngmsYLpF7"
      },
      "execution_count": null,
      "outputs": []
    }
  ]
}